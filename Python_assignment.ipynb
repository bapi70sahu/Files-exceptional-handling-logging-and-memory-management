{
  "nbformat": 4,
  "nbformat_minor": 0,
  "metadata": {
    "colab": {
      "provenance": []
    },
    "kernelspec": {
      "name": "python3",
      "display_name": "Python 3"
    },
    "language_info": {
      "name": "python"
    }
  },
  "cells": [
    {
      "cell_type": "markdown",
      "source": [
        "Q1. What is the difference between interpreted and compiled languages?  \n",
        "\n",
        "Answer:  \n",
        "- Compiled languages: The whole program is first converted into machine code by a compiler before running.  \n",
        "  Execution is very fast because CPU directly understands binary instructions. Examples: C, C++.  \n",
        "\n",
        "- Interpreted languages: The code is executed line by line by an interpreter.  \n",
        "  Execution is slower, but debugging and testing are easier. Examples: Python, JavaScript.  \n",
        "\n",
        "- Real life comparison:  \n",
        "  Compiled = translating an entire book before giving it.  \n",
        "  Interpreted = translating line by line while reading.  \n"
      ],
      "metadata": {
        "id": "HCS1SflYW3gc"
      }
    },
    {
      "cell_type": "code",
      "source": [
        "# Q1. Example of interpreted language (Python)\n",
        "\n",
        "print(\"Python executes this line immediately.\")\n",
        "print(\"Then it executes the next line.\")\n",
        "print(\"Each line runs one after another, showing interpretation.\")\n"
      ],
      "metadata": {
        "colab": {
          "base_uri": "https://localhost:8080/"
        },
        "id": "mFjEQrGaXIbA",
        "outputId": "bb402ec8-ce45-43e7-ffe6-1425cb8e87ae"
      },
      "execution_count": 1,
      "outputs": [
        {
          "output_type": "stream",
          "name": "stdout",
          "text": [
            "Python executes this line immediately.\n",
            "Then it executes the next line.\n",
            "Each line runs one after another, showing interpretation.\n"
          ]
        }
      ]
    },
    {
      "cell_type": "markdown",
      "source": [
        "Q2. What is exception handling in Python?  \n",
        "\n",
        "Answer:  \n",
        "Exception handling is a mechanism to deal with runtime errors in a safe way.  \n",
        "Without exception handling, errors like division by zero or invalid input will crash the program.  \n",
        "Python provides try, except, else, and finally blocks to handle these situations.  \n",
        "\n",
        "Steps:  \n",
        "- try: risky code  \n",
        "- except: code to handle error  \n",
        "- else: runs if no error occurs  \n",
        "- finally: always runs for cleanup  \n",
        "\n",
        "This ensures programs don’t crash and provide meaningful error messages.  \n"
      ],
      "metadata": {
        "id": "EZPjuzFoXOa2"
      }
    },
    {
      "cell_type": "code",
      "source": [
        "# Q2. Example of exception handling\n",
        "\n",
        "try:\n",
        "    num = int(\"abc\")   # This will cause ValueError\n",
        "except ValueError:\n",
        "    print(\"Error: Invalid input\")\n",
        "else:\n",
        "    print(\"No error occurred\")\n",
        "finally:\n",
        "    print(\"This will run no matter what\")\n"
      ],
      "metadata": {
        "colab": {
          "base_uri": "https://localhost:8080/"
        },
        "id": "LGX_kE8aXVw6",
        "outputId": "b1863680-fc2b-4f07-c909-ae52a45f1829"
      },
      "execution_count": 2,
      "outputs": [
        {
          "output_type": "stream",
          "name": "stdout",
          "text": [
            "Error: Invalid input\n",
            "This will run no matter what\n"
          ]
        }
      ]
    },
    {
      "cell_type": "markdown",
      "source": [
        "Q3. What is the purpose of the finally block in exception handling?  \n",
        "\n",
        "Answer:  \n",
        "The finally block is used to execute code regardless of whether an error occurs or not.  \n",
        "It is commonly used for cleanup tasks such as closing files, releasing memory, or disconnecting from databases.  \n",
        "\n",
        "Even if an error is raised and caught, finally block will still run.  \n"
      ],
      "metadata": {
        "id": "CzHgevoFXgR3"
      }
    },
    {
      "cell_type": "code",
      "source": [
        "# Q3. Example of finally block\n",
        "\n",
        "try:\n",
        "    f = open(\"sample.txt\", \"w\")\n",
        "    f.write(\"Hello World\")\n",
        "    result = 10 / 0   # Error occurs here\n",
        "except ZeroDivisionError:\n",
        "    print(\"Division by zero is not allowed\")\n",
        "finally:\n",
        "    f.close()  # File will still be closed even after error\n",
        "    print(\"File closed in finally block\")\n"
      ],
      "metadata": {
        "colab": {
          "base_uri": "https://localhost:8080/"
        },
        "id": "EcXo8Dq3Xkx8",
        "outputId": "beedb39f-fce5-44f0-aa59-05fa2ca3aef7"
      },
      "execution_count": 3,
      "outputs": [
        {
          "output_type": "stream",
          "name": "stdout",
          "text": [
            "Division by zero is not allowed\n",
            "File closed in finally block\n"
          ]
        }
      ]
    },
    {
      "cell_type": "markdown",
      "source": [
        "Q4. What is logging in Python?  \n",
        "\n",
        "Answer:  \n",
        "Logging is a way to record events that happen while a program runs.  \n",
        "It is better than using print statements because it can log messages with levels like INFO, WARNING, ERROR, etc.  \n",
        "Logs can also be stored in a file for later debugging and monitoring.  \n"
      ],
      "metadata": {
        "id": "GUix3EpRXuN7"
      }
    },
    {
      "cell_type": "code",
      "source": [
        "# Q4. Example of logging\n",
        "\n",
        "import logging\n",
        "\n",
        "logging.basicConfig(level=logging.INFO)   # Set log level\n",
        "logging.info(\"Program started\")\n",
        "logging.warning(\"This is a warning\")\n",
        "logging.error(\"This is an error message\")\n"
      ],
      "metadata": {
        "colab": {
          "base_uri": "https://localhost:8080/"
        },
        "id": "9hDmP-k4Xwk9",
        "outputId": "687c3b29-82dc-4b4e-9538-a0e7dc0460db"
      },
      "execution_count": 4,
      "outputs": [
        {
          "output_type": "stream",
          "name": "stderr",
          "text": [
            "WARNING:root:This is a warning\n",
            "ERROR:root:This is an error message\n"
          ]
        }
      ]
    },
    {
      "cell_type": "markdown",
      "source": [
        "Q5. What is the significance of the __del__ method in Python?  \n",
        "\n",
        "Answer:  \n",
        "The __del__ method is a destructor that is automatically called when an object is deleted or goes out of scope.  \n",
        "It is mainly used for cleanup activities such as releasing memory or closing a file.  \n",
        "\n",
        "Whenever an object is destroyed, Python calls the __del__ method of that class.  \n"
      ],
      "metadata": {
        "id": "1a40OatkX5EI"
      }
    },
    {
      "cell_type": "code",
      "source": [
        "# Q5. Example of __del__ method\n",
        "\n",
        "class Demo:\n",
        "    def __del__(self):\n",
        "        print(\"Destructor called, object deleted\")\n",
        "\n",
        "obj = Demo()\n",
        "del obj   # Manually deleting object calls __del__\n"
      ],
      "metadata": {
        "colab": {
          "base_uri": "https://localhost:8080/"
        },
        "id": "JOd9nkhmX9cq",
        "outputId": "27c3013e-0090-4883-b7a5-951b704c9826"
      },
      "execution_count": 5,
      "outputs": [
        {
          "output_type": "stream",
          "name": "stdout",
          "text": [
            "Destructor called, object deleted\n"
          ]
        }
      ]
    },
    {
      "cell_type": "markdown",
      "source": [
        "Q6. What is the difference between import and from ... import in Python?  \n",
        "\n",
        "Answer:  \n",
        "- import statement loads the entire module. We have to use module_name.function_name to access functions.  \n",
        "- from ... import statement loads only specific functions or classes from the module. We can directly use them without module name.  \n",
        "\n",
        "This helps in writing cleaner code when we need only a few functions from a module.  \n"
      ],
      "metadata": {
        "id": "oe6VHZhnYAxs"
      }
    },
    {
      "cell_type": "code",
      "source": [
        "# Q6. Example of import vs from ... import\n",
        "\n",
        "import math\n",
        "print(\"Using import:\", math.sqrt(16))   # Need to use math.sqrt\n",
        "\n",
        "from math import sqrt\n",
        "print(\"Using from ... import:\", sqrt(25))   # Directly use sqrt\n"
      ],
      "metadata": {
        "colab": {
          "base_uri": "https://localhost:8080/"
        },
        "id": "ZqgkGTzkYGaK",
        "outputId": "97ffd8b5-07f0-42ea-d1a2-f2a50e4c6c56"
      },
      "execution_count": 6,
      "outputs": [
        {
          "output_type": "stream",
          "name": "stdout",
          "text": [
            "Using import: 4.0\n",
            "Using from ... import: 5.0\n"
          ]
        }
      ]
    },
    {
      "cell_type": "markdown",
      "source": [
        "Q7. How can you handle multiple exceptions in Python?  \n",
        "\n",
        "Answer:  \n",
        "We can handle multiple exceptions by:  \n",
        "1. Writing multiple except blocks for different error types.  \n",
        "2. Using a single except block with a tuple of exceptions.  \n",
        "\n",
        "This ensures that different errors can be handled separately or together depending on the need.  \n"
      ],
      "metadata": {
        "id": "h8PDUGz5YI5Y"
      }
    },
    {
      "cell_type": "code",
      "source": [
        "# Q7. Example of handling multiple exceptions\n",
        "\n",
        "try:\n",
        "    num = int(\"abc\")   # ValueError\n",
        "    result = 10 / 0    # ZeroDivisionError\n",
        "except ValueError:\n",
        "    print(\"ValueError: Invalid conversion to integer\")\n",
        "except ZeroDivisionError:\n",
        "    print(\"ZeroDivisionError: Division by zero\")\n",
        "except (TypeError, OverflowError):\n",
        "    print(\"Other error occurred\")\n"
      ],
      "metadata": {
        "colab": {
          "base_uri": "https://localhost:8080/"
        },
        "id": "xbEZaIFYZdNz",
        "outputId": "20e79d77-e3d5-4404-8d88-9773d97c35d0"
      },
      "execution_count": 15,
      "outputs": [
        {
          "output_type": "stream",
          "name": "stdout",
          "text": [
            "ValueError: Invalid conversion to integer\n"
          ]
        }
      ]
    },
    {
      "cell_type": "markdown",
      "source": [
        "Q8. What is the purpose of the with statement when handling files in Python?  \n",
        "\n",
        "Answer:  \n",
        "The with statement ensures that files are properly closed after their usage, even if an error occurs.  \n",
        "It makes file handling easier and reduces the need for explicitly calling close().  \n"
      ],
      "metadata": {
        "id": "ayuSlRAuYOmg"
      }
    },
    {
      "cell_type": "code",
      "source": [
        "# Q8. Example of with statement in file handling\n",
        "\n",
        "with open(\"example.txt\", \"w\") as f:\n",
        "    f.write(\"This file will be closed automatically after this block\")\n",
        "\n",
        "print(\"File handling done safely using 'with' statement\")\n"
      ],
      "metadata": {
        "colab": {
          "base_uri": "https://localhost:8080/"
        },
        "id": "mIoMQVkxYRAM",
        "outputId": "87e72c85-ed6c-4c09-b41e-6860082c9b48"
      },
      "execution_count": 8,
      "outputs": [
        {
          "output_type": "stream",
          "name": "stdout",
          "text": [
            "File handling done safely using 'with' statement\n"
          ]
        }
      ]
    },
    {
      "cell_type": "markdown",
      "source": [
        "Q9. What is the difference between multithreading and multiprocessing?  \n",
        "\n",
        "Answer:  \n",
        "- Multithreading: Runs multiple threads within the same process, sharing the same memory. It is useful for I/O-bound tasks like downloading files or reading from disk.  \n",
        "- Multiprocessing: Runs multiple processes, each with its own memory. It is useful for CPU-bound tasks like calculations or data processing.  \n",
        "\n",
        "Both improve performance but are suitable for different kinds of problems.  \n"
      ],
      "metadata": {
        "id": "euEVCEbZYVSt"
      }
    },
    {
      "cell_type": "code",
      "source": [
        "# Q9. Example of multithreading vs multiprocessing (simple demonstration)\n",
        "\n",
        "import threading\n",
        "import multiprocessing\n",
        "\n",
        "def task(name):\n",
        "    print(f\"Task executed by: {name}\")\n",
        "\n",
        "# Multithreading\n",
        "t1 = threading.Thread(target=task, args=(\"Thread\",))\n",
        "t1.start()\n",
        "t1.join()\n",
        "\n",
        "# Multiprocessing\n",
        "p1 = multiprocessing.Process(target=task, args=(\"Process\",))\n",
        "p1.start()\n",
        "p1.join()\n"
      ],
      "metadata": {
        "colab": {
          "base_uri": "https://localhost:8080/"
        },
        "id": "cAMn-NUDYYu6",
        "outputId": "03ce74da-dc04-4302-e4fd-6dd8a67b3a6c"
      },
      "execution_count": 9,
      "outputs": [
        {
          "output_type": "stream",
          "name": "stdout",
          "text": [
            "Task executed by: Thread\n",
            "Task executed by: Process\n"
          ]
        }
      ]
    },
    {
      "cell_type": "markdown",
      "source": [
        "Q10. What are the advantages of using logging in a program?  \n",
        "\n",
        "Answer:  \n",
        "- Logging helps in debugging by showing detailed messages.  \n",
        "- It maintains a permanent record of events.  \n",
        "- It supports different severity levels like INFO, WARNING, ERROR, etc.  \n",
        "- Logs can be saved in files for future analysis.  \n",
        "\n",
        "This makes programs easier to monitor and maintain.  \n"
      ],
      "metadata": {
        "id": "ONlJSU_4Ybqf"
      }
    },
    {
      "cell_type": "code",
      "source": [
        "# Q10. Example of advantages of logging\n",
        "\n",
        "import logging\n",
        "\n",
        "logging.basicConfig(filename=\"app.log\", level=logging.DEBUG)\n",
        "\n",
        "logging.debug(\"Debugging information\")\n",
        "logging.info(\"Program started successfully\")\n",
        "logging.warning(\"This is a warning\")\n",
        "logging.error(\"This is an error\")\n",
        "logging.critical(\"Critical issue occurred\")\n",
        "\n",
        "print(\"Logs have been recorded in app.log file\")\n"
      ],
      "metadata": {
        "colab": {
          "base_uri": "https://localhost:8080/"
        },
        "id": "QQim0R0oYevx",
        "outputId": "5394a3a1-0de2-4458-c339-2b2d6c8fe138"
      },
      "execution_count": 10,
      "outputs": [
        {
          "output_type": "stream",
          "name": "stderr",
          "text": [
            "WARNING:root:This is a warning\n",
            "ERROR:root:This is an error\n",
            "CRITICAL:root:Critical issue occurred\n"
          ]
        },
        {
          "output_type": "stream",
          "name": "stdout",
          "text": [
            "Logs have been recorded in app.log file\n"
          ]
        }
      ]
    },
    {
      "cell_type": "markdown",
      "source": [
        "Q11. What is memory management in Python?  \n",
        "\n",
        "Answer:  \n",
        "Memory management in Python is the process of efficiently allocating and freeing memory for objects and variables.  \n",
        "Python uses an automatic memory manager which takes care of allocation and deallocation using:  \n",
        "1. Reference counting – keeps track of how many references an object has.  \n",
        "2. Garbage collection – removes unused objects from memory.  \n",
        "\n",
        "This makes Python easy to use because developers don’t need to manually allocate or free memory.  \n"
      ],
      "metadata": {
        "id": "dxHcW4ohYhVA"
      }
    },
    {
      "cell_type": "code",
      "source": [
        "# Q11. Example of memory management\n",
        "\n",
        "a = [1, 2, 3]\n",
        "b = a   # Both 'a' and 'b' refer to the same list object\n",
        "print(\"Reference count increases when assigning:\", b)\n",
        "\n",
        "del a   # Deleting one reference\n",
        "print(\"List is still accessible using 'b':\", b)\n",
        "\n",
        "# Python will remove the object only when no reference exists\n"
      ],
      "metadata": {
        "colab": {
          "base_uri": "https://localhost:8080/"
        },
        "id": "yfo-SCQaYoqg",
        "outputId": "9713e6d9-4ef0-46b3-cc73-14a3294c6959"
      },
      "execution_count": 11,
      "outputs": [
        {
          "output_type": "stream",
          "name": "stdout",
          "text": [
            "Reference count increases when assigning: [1, 2, 3]\n",
            "List is still accessible using 'b': [1, 2, 3]\n"
          ]
        }
      ]
    },
    {
      "cell_type": "markdown",
      "source": [
        "Q12. What are the basic steps involved in exception handling in Python?  \n",
        "\n",
        "Answer:  \n",
        "The steps in exception handling are:  \n",
        "1. Place risky code inside the try block.  \n",
        "2. Use except block to handle specific or general exceptions.  \n",
        "3. Use else block for code that should run if no error occurs.  \n",
        "4. Use finally block for code that should run no matter what, usually for cleanup.  \n"
      ],
      "metadata": {
        "id": "5PVovWw0Yuz4"
      }
    },
    {
      "cell_type": "code",
      "source": [
        "# Q12. Example of basic exception handling steps\n",
        "\n",
        "try:\n",
        "    num = 10 / 2\n",
        "except ZeroDivisionError:\n",
        "    print(\"Division by zero not allowed\")\n",
        "else:\n",
        "    print(\"Division successful:\", num)\n",
        "finally:\n",
        "    print(\"Cleanup done (finally block)\")\n"
      ],
      "metadata": {
        "colab": {
          "base_uri": "https://localhost:8080/"
        },
        "id": "BiE1IVFaYxdx",
        "outputId": "008d700d-0cc5-4cd1-a5e5-6a087e7e37d3"
      },
      "execution_count": 12,
      "outputs": [
        {
          "output_type": "stream",
          "name": "stdout",
          "text": [
            "Division successful: 5.0\n",
            "Cleanup done (finally block)\n"
          ]
        }
      ]
    },
    {
      "cell_type": "markdown",
      "source": [
        "Q13. Why is memory management important in Python?  \n",
        "\n",
        "Answer:  \n",
        "Memory management is important because:  \n",
        "- It prevents memory leaks that can slow down or crash the program.  \n",
        "- It ensures efficient use of system resources.  \n",
        "- It improves performance when dealing with large datasets.  \n",
        "- It makes programs more stable and reliable.  \n"
      ],
      "metadata": {
        "id": "Umixc34IY02r"
      }
    },
    {
      "cell_type": "code",
      "source": [
        "# Q13. Example to show importance of memory management\n",
        "\n",
        "import sys\n",
        "\n",
        "x = [i for i in range(1000)]\n",
        "print(\"Memory used by list:\", sys.getsizeof(x), \"bytes\")\n",
        "\n",
        "del x   # Free memory\n",
        "print(\"Memory freed after deleting the list\")\n"
      ],
      "metadata": {
        "colab": {
          "base_uri": "https://localhost:8080/"
        },
        "id": "cmLrI9hjYz-G",
        "outputId": "c7d195c3-18d3-45f9-ad68-6ef8515aaf72"
      },
      "execution_count": 13,
      "outputs": [
        {
          "output_type": "stream",
          "name": "stdout",
          "text": [
            "Memory used by list: 8856 bytes\n",
            "Memory freed after deleting the list\n"
          ]
        }
      ]
    },
    {
      "cell_type": "markdown",
      "source": [
        "Q14. What is the role of try and except in exception handling?  \n",
        "\n",
        "Answer:  \n",
        "- try block: Contains code that may raise an exception.  \n",
        "- except block: Defines how to handle the error if it occurs.  \n",
        "\n",
        "Together, they allow the program to continue running smoothly instead of crashing when an error occurs.  \n"
      ],
      "metadata": {
        "id": "o4hgXXS_Y6CP"
      }
    },
    {
      "cell_type": "code",
      "source": [
        "# Q14. Example of try and except\n",
        "\n",
        "try:\n",
        "    value = int(\"abc\")\n",
        "except ValueError:\n",
        "    print(\"Error handled: invalid integer conversion\")\n"
      ],
      "metadata": {
        "colab": {
          "base_uri": "https://localhost:8080/"
        },
        "id": "HaX9mOtoY8ZU",
        "outputId": "9b9fe3b5-57f3-4b27-c678-2bc54cbfb3df"
      },
      "execution_count": 14,
      "outputs": [
        {
          "output_type": "stream",
          "name": "stdout",
          "text": [
            "Error handled: invalid integer conversion\n"
          ]
        }
      ]
    },
    {
      "cell_type": "markdown",
      "source": [
        "Q15. How does Python's garbage collection system work?  \n",
        "\n",
        "Answer:  \n",
        "Python uses two techniques for garbage collection:  \n",
        "1. Reference counting: Each object keeps a count of references. When it becomes zero, the object is destroyed.  \n",
        "2. Cyclic garbage collector: Handles situations where objects refer to each other, preventing memory leaks.  \n",
        "\n",
        "This automatic system helps keep memory usage efficient.  \n"
      ],
      "metadata": {
        "id": "Xyzt07wmZl_X"
      }
    },
    {
      "cell_type": "code",
      "source": [
        "# Q15. Example of garbage collection\n",
        "\n",
        "import gc\n",
        "\n",
        "# Create a simple object\n",
        "x = [1, 2, 3]\n",
        "print(\"Object created:\", x)\n",
        "\n",
        "# Delete the reference\n",
        "del x\n",
        "\n",
        "# Force garbage collection\n",
        "gc.collect()\n",
        "print(\"Garbage collector executed to free unused memory\")\n"
      ],
      "metadata": {
        "colab": {
          "base_uri": "https://localhost:8080/"
        },
        "id": "Gi13ieT-ZqDN",
        "outputId": "0152f05e-8ad1-48fe-e1e5-bbbe1e68073d"
      },
      "execution_count": 16,
      "outputs": [
        {
          "output_type": "stream",
          "name": "stdout",
          "text": [
            "Object created: [1, 2, 3]\n",
            "Garbage collector executed to free unused memory\n"
          ]
        }
      ]
    },
    {
      "cell_type": "markdown",
      "source": [
        "Q16. What is the purpose of the else block in exception handling?  \n",
        "\n",
        "Answer:  \n",
        "The else block is used in exception handling to run code only if no exception occurs in the try block.  \n",
        "It helps in separating the code that should execute when everything works fine from the error-handling code in except.  \n"
      ],
      "metadata": {
        "id": "vsbS2dVYZtHI"
      }
    },
    {
      "cell_type": "code",
      "source": [
        "# Q16. Example of else block in exception handling\n",
        "\n",
        "try:\n",
        "    num = 10 / 2\n",
        "except ZeroDivisionError:\n",
        "    print(\"Division error occurred\")\n",
        "else:\n",
        "    print(\"No error occurred, result is:\", num)\n"
      ],
      "metadata": {
        "colab": {
          "base_uri": "https://localhost:8080/"
        },
        "id": "tXQ_U0bCZ1ta",
        "outputId": "a0762a97-b772-48fe-8af8-cb860cbc5de6"
      },
      "execution_count": 17,
      "outputs": [
        {
          "output_type": "stream",
          "name": "stdout",
          "text": [
            "No error occurred, result is: 5.0\n"
          ]
        }
      ]
    },
    {
      "cell_type": "markdown",
      "source": [
        "Q17. What are the common logging levels in Python?  \n",
        "\n",
        "Answer:  \n",
        "Python logging module provides different levels to categorize the importance of messages:  \n",
        "1. DEBUG – Detailed information for developers.  \n",
        "2. INFO – General information about program execution.  \n",
        "3. WARNING – Indicates something unexpected but not an error.  \n",
        "4. ERROR – Shows a serious problem that caused an error.  \n",
        "5. CRITICAL – Very serious error, program may stop running.  \n"
      ],
      "metadata": {
        "id": "tW28ByAoZ6WT"
      }
    },
    {
      "cell_type": "code",
      "source": [
        "# Q17. Example of logging levels\n",
        "\n",
        "import logging\n",
        "\n",
        "logging.basicConfig(level=logging.DEBUG)\n",
        "\n",
        "logging.debug(\"This is DEBUG message\")\n",
        "logging.info(\"This is INFO message\")\n",
        "logging.warning(\"This is WARNING message\")\n",
        "logging.error(\"This is ERROR message\")\n",
        "logging.critical(\"This is CRITICAL message\")\n"
      ],
      "metadata": {
        "colab": {
          "base_uri": "https://localhost:8080/"
        },
        "id": "4BfICavUZ9UE",
        "outputId": "a1aecb81-07e1-4ff2-d1d6-1f0cda6bc479"
      },
      "execution_count": 18,
      "outputs": [
        {
          "output_type": "stream",
          "name": "stderr",
          "text": [
            "WARNING:root:This is WARNING message\n",
            "ERROR:root:This is ERROR message\n",
            "CRITICAL:root:This is CRITICAL message\n"
          ]
        }
      ]
    },
    {
      "cell_type": "markdown",
      "source": [
        "Q18. What is the difference between os.fork() and multiprocessing in Python?  \n",
        "\n",
        "Answer:  \n",
        "- os.fork(): Available only on Unix/Linux systems. It creates a child process by duplicating the current process.  \n",
        "- multiprocessing module: Works on all platforms (Windows, Linux, Mac). Provides a higher-level API for creating and managing processes easily.  \n",
        "\n",
        "multiprocessing is preferred in Python for portability and ease of use.  \n"
      ],
      "metadata": {
        "id": "-NRFMdcTakF1"
      }
    },
    {
      "cell_type": "code",
      "source": [
        "# Q18. Example of multiprocessing (since os.fork() doesn't work on all systems)\n",
        "\n",
        "from multiprocessing import Process\n",
        "\n",
        "def show():\n",
        "    print(\"Process is running\")\n",
        "\n",
        "p = Process(target=show)\n",
        "p.start()\n",
        "p.join()\n"
      ],
      "metadata": {
        "colab": {
          "base_uri": "https://localhost:8080/"
        },
        "id": "Pih1Qy2aam12",
        "outputId": "8cc076ec-dfc4-482c-9bda-7b701894f852"
      },
      "execution_count": 19,
      "outputs": [
        {
          "output_type": "stream",
          "name": "stdout",
          "text": [
            "Process is running\n"
          ]
        }
      ]
    },
    {
      "cell_type": "markdown",
      "source": [
        "Q19. What is the importance of closing a file in Python?  \n",
        "\n",
        "Answer:  \n",
        "Closing a file is important because:  \n",
        "- It saves all changes to the file properly.  \n",
        "- It releases system resources.  \n",
        "- If files are not closed, it may cause memory leaks or file corruption.  \n",
        "\n",
        "Using the with statement is the best way since it closes the file automatically.  \n"
      ],
      "metadata": {
        "id": "yJlBb2Ceapzl"
      }
    },
    {
      "cell_type": "code",
      "source": [
        "# Q19. Example of closing a file\n",
        "\n",
        "f = open(\"data.txt\", \"w\")\n",
        "f.write(\"Hello, World!\")\n",
        "f.close()   # Closing file manually\n",
        "print(\"File closed successfully\")\n",
        "\n",
        "# Using 'with' automatically closes the file\n",
        "with open(\"data2.txt\", \"w\") as f:\n",
        "    f.write(\"This file will close automatically\")\n",
        "print(\"File handled using with statement\")\n"
      ],
      "metadata": {
        "colab": {
          "base_uri": "https://localhost:8080/"
        },
        "id": "k9DnzW1LaxtF",
        "outputId": "ce15d6cf-1f40-4047-adda-d4643d4bc398"
      },
      "execution_count": 20,
      "outputs": [
        {
          "output_type": "stream",
          "name": "stdout",
          "text": [
            "File closed successfully\n",
            "File handled using with statement\n"
          ]
        }
      ]
    },
    {
      "cell_type": "markdown",
      "source": [
        "Q20. What is the difference between file.read() and file.readline() in Python?  \n",
        "\n",
        "Answer:  \n",
        "- file.read(): Reads the entire file content as a single string.  \n",
        "- file.readline(): Reads one line at a time from the file.  \n",
        "\n",
        "file.read() is useful when we want the whole file content, while file.readline() is useful for reading line by line.  \n"
      ],
      "metadata": {
        "id": "6OLRQcBtbCN1"
      }
    },
    {
      "cell_type": "code",
      "source": [
        "# Q20. Example of file.read() vs file.readline()\n",
        "\n",
        "# Creating a sample file\n",
        "with open(\"sample.txt\", \"w\") as f:\n",
        "    f.write(\"Line 1\\nLine 2\\nLine 3\")\n",
        "\n",
        "# Using read()\n",
        "with open(\"sample.txt\", \"r\") as f:\n",
        "    print(\"Using read():\")\n",
        "    print(f.read())\n",
        "\n",
        "# Using readline()\n",
        "with open(\"sample.txt\", \"r\") as f:\n",
        "    print(\"\\nUsing readline():\")\n",
        "    print(f.readline(), end=\"\")\n",
        "    print(f.readline(), end=\"\")\n"
      ],
      "metadata": {
        "colab": {
          "base_uri": "https://localhost:8080/"
        },
        "id": "NxXzGm6YbEr5",
        "outputId": "c7aa1696-822e-4e33-c9d6-fa78109a5992"
      },
      "execution_count": 21,
      "outputs": [
        {
          "output_type": "stream",
          "name": "stdout",
          "text": [
            "Using read():\n",
            "Line 1\n",
            "Line 2\n",
            "Line 3\n",
            "\n",
            "Using readline():\n",
            "Line 1\n",
            "Line 2\n"
          ]
        }
      ]
    },
    {
      "cell_type": "markdown",
      "source": [
        "Q21. What is the logging module in Python used for?  \n",
        "\n",
        "Answer:  \n",
        "The logging module is used to record events, warnings, and errors that happen during the execution of a program.  \n",
        "It is better than print statements because:  \n",
        "- It provides different log levels (DEBUG, INFO, WARNING, ERROR, CRITICAL).  \n",
        "- Logs can be stored in files for future analysis.  \n",
        "- It helps in debugging and monitoring programs in real-time.  \n"
      ],
      "metadata": {
        "id": "riF6iloYbJMF"
      }
    },
    {
      "cell_type": "code",
      "source": [
        "# Q21. Example of logging module\n",
        "\n",
        "import logging\n",
        "\n",
        "logging.basicConfig(filename=\"program.log\", level=logging.INFO)\n",
        "\n",
        "logging.info(\"Program started successfully\")\n",
        "logging.warning(\"This is a warning message\")\n",
        "logging.error(\"This is an error message\")\n",
        "\n",
        "print(\"Logs written to program.log file\")\n"
      ],
      "metadata": {
        "colab": {
          "base_uri": "https://localhost:8080/"
        },
        "id": "OJ86YpFvbS9v",
        "outputId": "55df8ffc-fae9-4071-c34c-c9c9ff34deab"
      },
      "execution_count": 22,
      "outputs": [
        {
          "output_type": "stream",
          "name": "stderr",
          "text": [
            "WARNING:root:This is a warning message\n",
            "ERROR:root:This is an error message\n"
          ]
        },
        {
          "output_type": "stream",
          "name": "stdout",
          "text": [
            "Logs written to program.log file\n"
          ]
        }
      ]
    },
    {
      "cell_type": "markdown",
      "source": [
        "Q22. What is the os module in Python used for in file handling?  \n",
        "\n",
        "Answer:  \n",
        "The os module provides functions to interact with the operating system.  \n",
        "It is commonly used in file handling for:  \n",
        "- Creating or deleting files and directories.  \n",
        "- Checking if a file exists.  \n",
        "- Listing files in a directory.  \n",
        "- Getting information about paths.  \n"
      ],
      "metadata": {
        "id": "UFuh9q7JbmEt"
      }
    },
    {
      "cell_type": "code",
      "source": [
        "# Q22. Example of os module in file handling\n",
        "\n",
        "import os\n",
        "\n",
        "# Create a new file\n",
        "with open(\"test.txt\", \"w\") as f:\n",
        "    f.write(\"OS module example\")\n",
        "\n",
        "# Check if file exists\n",
        "print(\"Does test.txt exist?\", os.path.exists(\"test.txt\"))\n",
        "\n",
        "# List files in current directory\n",
        "print(\"Files in current directory:\", os.listdir())\n"
      ],
      "metadata": {
        "colab": {
          "base_uri": "https://localhost:8080/"
        },
        "id": "_mz0shWobpFt",
        "outputId": "d7cacb41-9820-41fd-c029-a9f964c05f82"
      },
      "execution_count": 23,
      "outputs": [
        {
          "output_type": "stream",
          "name": "stdout",
          "text": [
            "Does test.txt exist? True\n",
            "Files in current directory: ['.config', 'test.txt', 'data.txt', 'example.txt', 'data2.txt', 'sample.txt', 'sample_data']\n"
          ]
        }
      ]
    },
    {
      "cell_type": "markdown",
      "source": [
        "Q23. What are the challenges associated with memory management in Python?  \n",
        "\n",
        "Answer:  \n",
        "Some challenges in Python memory management are:  \n",
        "- Garbage collection overhead may affect performance.  \n",
        "- Circular references (objects referring to each other) can cause memory leaks.  \n",
        "- Large objects or datasets may consume a lot of memory.  \n",
        "- Performance issues may arise in applications with heavy memory usage.  \n"
      ],
      "metadata": {
        "id": "VJgdGVdXbrur"
      }
    },
    {
      "cell_type": "code",
      "source": [
        "# Q23. Example of circular reference causing memory issue\n",
        "\n",
        "class A:\n",
        "    def __init__(self):\n",
        "        self.ref = None\n",
        "\n",
        "a1 = A()\n",
        "a2 = A()\n",
        "\n",
        "# Creating circular reference\n",
        "a1.ref = a2\n",
        "a2.ref = a1\n",
        "\n",
        "print(\"Circular reference created between a1 and a2\")\n"
      ],
      "metadata": {
        "colab": {
          "base_uri": "https://localhost:8080/"
        },
        "id": "vg1t6p2PbuT5",
        "outputId": "dcd3d019-0818-4eb2-d194-4110064831ea"
      },
      "execution_count": 24,
      "outputs": [
        {
          "output_type": "stream",
          "name": "stdout",
          "text": [
            "Circular reference created between a1 and a2\n"
          ]
        }
      ]
    },
    {
      "cell_type": "markdown",
      "source": [
        "Q24. How do you raise an exception manually in Python?  \n",
        "\n",
        "Answer:  \n",
        "In Python, we can raise exceptions manually using the raise keyword.  \n",
        "This is useful when we want to enforce certain conditions in a program.  \n"
      ],
      "metadata": {
        "id": "U7uilVtvbxXi"
      }
    },
    {
      "cell_type": "code",
      "source": [
        "# Q24. Example of raising exception manually\n",
        "\n",
        "age = -5\n",
        "if age < 0:\n",
        "    raise ValueError(\"Age cannot be negative\")\n"
      ],
      "metadata": {
        "colab": {
          "base_uri": "https://localhost:8080/",
          "height": 176
        },
        "id": "64P5Gj-ab2EV",
        "outputId": "8d59c595-f357-4732-db7a-08bd47bfed3b"
      },
      "execution_count": 25,
      "outputs": [
        {
          "output_type": "error",
          "ename": "ValueError",
          "evalue": "Age cannot be negative",
          "traceback": [
            "\u001b[0;31m---------------------------------------------------------------------------\u001b[0m",
            "\u001b[0;31mValueError\u001b[0m                                Traceback (most recent call last)",
            "\u001b[0;32m/tmp/ipython-input-2704873141.py\u001b[0m in \u001b[0;36m<cell line: 0>\u001b[0;34m()\u001b[0m\n\u001b[1;32m      3\u001b[0m \u001b[0mage\u001b[0m \u001b[0;34m=\u001b[0m \u001b[0;34m-\u001b[0m\u001b[0;36m5\u001b[0m\u001b[0;34m\u001b[0m\u001b[0;34m\u001b[0m\u001b[0m\n\u001b[1;32m      4\u001b[0m \u001b[0;32mif\u001b[0m \u001b[0mage\u001b[0m \u001b[0;34m<\u001b[0m \u001b[0;36m0\u001b[0m\u001b[0;34m:\u001b[0m\u001b[0;34m\u001b[0m\u001b[0;34m\u001b[0m\u001b[0m\n\u001b[0;32m----> 5\u001b[0;31m     \u001b[0;32mraise\u001b[0m \u001b[0mValueError\u001b[0m\u001b[0;34m(\u001b[0m\u001b[0;34m\"Age cannot be negative\"\u001b[0m\u001b[0;34m)\u001b[0m\u001b[0;34m\u001b[0m\u001b[0;34m\u001b[0m\u001b[0m\n\u001b[0m",
            "\u001b[0;31mValueError\u001b[0m: Age cannot be negative"
          ]
        }
      ]
    },
    {
      "cell_type": "markdown",
      "source": [
        "Q25. Why is it important to use multithreading in certain applications?  \n",
        "\n",
        "Answer:  \n",
        "Multithreading is important because it allows multiple tasks to run at the same time within a single process.  \n",
        "It is especially useful for I/O-bound tasks like:  \n",
        "- Downloading files  \n",
        "- Handling multiple user requests  \n",
        "- Reading/writing data from disk  \n",
        "\n",
        "This improves program efficiency and reduces waiting time.  \n"
      ],
      "metadata": {
        "id": "BF75lXnkcbU9"
      }
    },
    {
      "cell_type": "code",
      "source": [
        "# Q25. Example of multithreading\n",
        "\n",
        "import threading\n",
        "import time\n",
        "\n",
        "def task(name):\n",
        "    print(f\"{name} started\")\n",
        "    time.sleep(2)\n",
        "    print(f\"{name} finished\")\n",
        "\n",
        "t1 = threading.Thread(target=task, args=(\"Thread 1\",))\n",
        "t2 = threading.Thread(target=task, args=(\"Thread 2\",))\n",
        "\n",
        "t1.start()\n",
        "t2.start()\n",
        "t1.join()\n",
        "t2.join()\n",
        "\n",
        "print(\"Both threads finished execution\")\n"
      ],
      "metadata": {
        "colab": {
          "base_uri": "https://localhost:8080/"
        },
        "id": "AjcR661acclW",
        "outputId": "496f39bf-462d-42b6-abc7-2fc1dddb914e"
      },
      "execution_count": 26,
      "outputs": [
        {
          "output_type": "stream",
          "name": "stdout",
          "text": [
            "Thread 1 started\n",
            "Thread 2 started\n",
            "Thread 1 finished\n",
            "Thread 2 finished\n",
            "Both threads finished execution\n"
          ]
        }
      ]
    },
    {
      "cell_type": "code",
      "source": [
        "# Q1. How can you open a file for writing in Python and write a string to it?\n",
        "\n",
        "f = open(\"output.txt\", \"w\")\n",
        "f.write(\"Hello, this is my first file writing in Python!\")\n",
        "f.close()\n"
      ],
      "metadata": {
        "id": "f-KRKCaac6yr"
      },
      "execution_count": 27,
      "outputs": []
    },
    {
      "cell_type": "code",
      "source": [
        "# Q2. Write a Python program to read the contents of a file and print each line.\n",
        "\n",
        "with open(\"sample.txt\", \"w\") as f:\n",
        "    f.write(\"Line 1: Python is fun\\n\")\n",
        "    f.write(\"Line 2: File handling is useful\\n\")\n",
        "    f.write(\"Line 3: This is the last line\\n\")\n",
        "\n",
        "with open(\"sample.txt\", \"r\") as f:\n",
        "    for line in f:\n",
        "        print(line.strip())\n"
      ],
      "metadata": {
        "colab": {
          "base_uri": "https://localhost:8080/"
        },
        "id": "GRvqz9V8dBCO",
        "outputId": "b75e26d6-4005-4adc-c801-d7f452bc2191"
      },
      "execution_count": 28,
      "outputs": [
        {
          "output_type": "stream",
          "name": "stdout",
          "text": [
            "Line 1: Python is fun\n",
            "Line 2: File handling is useful\n",
            "Line 3: This is the last line\n"
          ]
        }
      ]
    },
    {
      "cell_type": "code",
      "source": [
        "# Q3. How would you handle a case where the file doesn't exist while trying to open it for reading?\n",
        "\n",
        "try:\n",
        "    f = open(\"non_existing_file.txt\", \"r\")\n",
        "    print(f.read())\n",
        "    f.close()\n",
        "except FileNotFoundError:\n",
        "    print(\"Error: The file does not exist\")\n"
      ],
      "metadata": {
        "colab": {
          "base_uri": "https://localhost:8080/"
        },
        "id": "mA1FC-DcdEN5",
        "outputId": "cd763d3b-5672-47cf-cc7a-da04d1516806"
      },
      "execution_count": 29,
      "outputs": [
        {
          "output_type": "stream",
          "name": "stdout",
          "text": [
            "Error: The file does not exist\n"
          ]
        }
      ]
    },
    {
      "cell_type": "code",
      "source": [
        "# Q4. Write a Python script that reads from one file and writes its content to another file.\n",
        "\n",
        "with open(\"source.txt\", \"w\") as f:\n",
        "    f.write(\"This is line 1\\nThis is line 2\\nThis is line 3\")\n",
        "\n",
        "with open(\"source.txt\", \"r\") as src, open(\"destination.txt\", \"w\") as dest:\n",
        "    for line in src:\n",
        "        dest.write(line)\n"
      ],
      "metadata": {
        "id": "Tc7nyRbndKrU"
      },
      "execution_count": 30,
      "outputs": []
    },
    {
      "cell_type": "code",
      "source": [
        "# Q5. How would you catch and handle division by zero error in Python?\n",
        "\n",
        "try:\n",
        "    result = 10 / 0\n",
        "    print(result)\n",
        "except ZeroDivisionError:\n",
        "    print(\"Error: Division by zero is not allowed\")\n"
      ],
      "metadata": {
        "colab": {
          "base_uri": "https://localhost:8080/"
        },
        "id": "ZHXmXEaFdbUx",
        "outputId": "14273a40-8eb9-4398-fff8-08fb3b2b3621"
      },
      "execution_count": 31,
      "outputs": [
        {
          "output_type": "stream",
          "name": "stdout",
          "text": [
            "Error: Division by zero is not allowed\n"
          ]
        }
      ]
    },
    {
      "cell_type": "code",
      "source": [
        "# Q6. Write a Python program that logs an error message to a log file when a division by zero exception occurs.\n",
        "\n",
        "import logging\n",
        "\n",
        "logging.basicConfig(filename=\"errors.log\", level=logging.ERROR)\n",
        "\n",
        "try:\n",
        "    result = 10 / 0\n",
        "except ZeroDivisionError:\n",
        "    logging.error(\"Division by zero error occurred\")\n",
        "    print(\"Error logged into errors.log\")\n"
      ],
      "metadata": {
        "colab": {
          "base_uri": "https://localhost:8080/"
        },
        "id": "ybKiK2Dqdd8p",
        "outputId": "39b3fd60-f225-4230-97d9-78b34e61be76"
      },
      "execution_count": 32,
      "outputs": [
        {
          "output_type": "stream",
          "name": "stderr",
          "text": [
            "ERROR:root:Division by zero error occurred\n"
          ]
        },
        {
          "output_type": "stream",
          "name": "stdout",
          "text": [
            "Error logged into errors.log\n"
          ]
        }
      ]
    },
    {
      "cell_type": "code",
      "source": [
        "# Q7. How do you log information at different levels (INFO, ERROR, WARNING) in Python using the logging module?\n",
        "\n",
        "import logging\n",
        "\n",
        "logging.basicConfig(level=logging.DEBUG)\n",
        "\n",
        "logging.info(\"This is an info message\")\n",
        "logging.warning(\"This is a warning message\")\n",
        "logging.error(\"This is an error message\")\n"
      ],
      "metadata": {
        "colab": {
          "base_uri": "https://localhost:8080/"
        },
        "id": "23xYbAv9dsqf",
        "outputId": "b181b4f5-5740-4938-b4b2-c356d682dc78"
      },
      "execution_count": 33,
      "outputs": [
        {
          "output_type": "stream",
          "name": "stderr",
          "text": [
            "WARNING:root:This is a warning message\n",
            "ERROR:root:This is an error message\n"
          ]
        }
      ]
    },
    {
      "cell_type": "code",
      "source": [
        "# Q8. Write a program to handle a file opening error using exception handling.\n",
        "\n",
        "try:\n",
        "    f = open(\"missing.txt\", \"r\")\n",
        "    print(f.read())\n",
        "    f.close()\n",
        "except FileNotFoundError:\n",
        "    print(\"File not found error handled\")\n"
      ],
      "metadata": {
        "colab": {
          "base_uri": "https://localhost:8080/"
        },
        "id": "fcxl2pNjdt3E",
        "outputId": "175b6b3e-b788-4bc3-b181-a0213a3a22ce"
      },
      "execution_count": 34,
      "outputs": [
        {
          "output_type": "stream",
          "name": "stdout",
          "text": [
            "File not found error handled\n"
          ]
        }
      ]
    },
    {
      "cell_type": "code",
      "source": [
        "# Q9. How can you read a file line by line and store its content in a list in Python?\n",
        "\n",
        "with open(\"data.txt\", \"w\") as f:\n",
        "    f.write(\"Apple\\nBanana\\nCherry\")\n",
        "\n",
        "lines = []\n",
        "with open(\"data.txt\", \"r\") as f:\n",
        "    lines = f.readlines()\n",
        "\n",
        "print(lines)\n"
      ],
      "metadata": {
        "colab": {
          "base_uri": "https://localhost:8080/"
        },
        "id": "BZV-MWZCdwY9",
        "outputId": "e266cd4c-035f-48be-800d-40ab6540707f"
      },
      "execution_count": 35,
      "outputs": [
        {
          "output_type": "stream",
          "name": "stdout",
          "text": [
            "['Apple\\n', 'Banana\\n', 'Cherry']\n"
          ]
        }
      ]
    },
    {
      "cell_type": "code",
      "source": [
        "# Q10. How can you append data to an existing file in Python?\n",
        "\n",
        "with open(\"append.txt\", \"w\") as f:\n",
        "    f.write(\"First line\\n\")\n",
        "\n",
        "with open(\"append.txt\", \"a\") as f:\n",
        "    f.write(\"Appended line\\n\")\n"
      ],
      "metadata": {
        "id": "mgC0X496dyZc"
      },
      "execution_count": 36,
      "outputs": []
    },
    {
      "cell_type": "code",
      "source": [
        "# Q11. Write a Python program that uses a try-except block to handle an error when attempting to access a dictionary key that doesn't exist.\n",
        "\n",
        "data = {\"name\": \"John\", \"age\": 25}\n",
        "\n",
        "try:\n",
        "    print(data[\"salary\"])\n",
        "except KeyError:\n",
        "    print(\"Error: Key does not exist in dictionary\")\n"
      ],
      "metadata": {
        "colab": {
          "base_uri": "https://localhost:8080/"
        },
        "id": "BQv44yPod02K",
        "outputId": "3ab0caad-c98b-43a3-df16-3a3edf5d4471"
      },
      "execution_count": 37,
      "outputs": [
        {
          "output_type": "stream",
          "name": "stdout",
          "text": [
            "Error: Key does not exist in dictionary\n"
          ]
        }
      ]
    },
    {
      "cell_type": "code",
      "source": [
        "# Q12. Write a program that demonstrates using multiple except blocks to handle different types of exceptions.\n",
        "\n",
        "try:\n",
        "    num = int(\"abc\")   # ValueError\n",
        "    result = 10 / 0    # ZeroDivisionError\n",
        "except ValueError:\n",
        "    print(\"ValueError occurred\")\n",
        "except ZeroDivisionError:\n",
        "    print(\"ZeroDivisionError occurred\")\n"
      ],
      "metadata": {
        "colab": {
          "base_uri": "https://localhost:8080/"
        },
        "id": "d4tFykzRd20l",
        "outputId": "4dc316ec-437c-48f1-88a6-a777f65a7085"
      },
      "execution_count": 38,
      "outputs": [
        {
          "output_type": "stream",
          "name": "stdout",
          "text": [
            "ValueError occurred\n"
          ]
        }
      ]
    },
    {
      "cell_type": "code",
      "source": [
        "# Q13. How would you check if a file exists before attempting to read it in Python?\n",
        "\n",
        "import os\n",
        "\n",
        "if os.path.exists(\"check.txt\"):\n",
        "    with open(\"check.txt\", \"r\") as f:\n",
        "        print(f.read())\n",
        "else:\n",
        "    print(\"File does not exist\")\n"
      ],
      "metadata": {
        "colab": {
          "base_uri": "https://localhost:8080/"
        },
        "id": "I5fL0qqSd40m",
        "outputId": "0b4f3c83-8533-4f09-fa23-ea32e17f0470"
      },
      "execution_count": 39,
      "outputs": [
        {
          "output_type": "stream",
          "name": "stdout",
          "text": [
            "File does not exist\n"
          ]
        }
      ]
    },
    {
      "cell_type": "code",
      "source": [
        "# Q14. Write a program that uses the logging module to log both informational and error messages.\n",
        "\n",
        "import logging\n",
        "\n",
        "logging.basicConfig(filename=\"app.log\", level=logging.DEBUG)\n",
        "\n",
        "logging.info(\"This is an informational message\")\n",
        "logging.error(\"This is an error message\")\n"
      ],
      "metadata": {
        "colab": {
          "base_uri": "https://localhost:8080/"
        },
        "id": "AJKhETP5d68S",
        "outputId": "ac326848-b1cd-45ea-f814-690fe3c8a03a"
      },
      "execution_count": 40,
      "outputs": [
        {
          "output_type": "stream",
          "name": "stderr",
          "text": [
            "ERROR:root:This is an error message\n"
          ]
        }
      ]
    },
    {
      "cell_type": "code",
      "source": [
        "# Q15. Write a Python program that prints the content of a file and handles the case when the file is empty.\n",
        "\n",
        "with open(\"empty.txt\", \"w\") as f:\n",
        "    pass\n",
        "\n",
        "with open(\"empty.txt\", \"r\") as f:\n",
        "    content = f.read()\n",
        "    if content == \"\":\n",
        "        print(\"The file is empty\")\n",
        "    else:\n",
        "        print(content)\n"
      ],
      "metadata": {
        "colab": {
          "base_uri": "https://localhost:8080/"
        },
        "id": "11xys3bZd9KW",
        "outputId": "4f393758-2b52-434c-c8ff-e39c34b4334e"
      },
      "execution_count": 41,
      "outputs": [
        {
          "output_type": "stream",
          "name": "stdout",
          "text": [
            "The file is empty\n"
          ]
        }
      ]
    },
    {
      "cell_type": "code",
      "source": [
        "# Q16. Demonstrate how to use memory profiling to check the memory usage of a small program.\n",
        "\n",
        "import sys\n",
        "\n",
        "numbers = [i for i in range(1000)]\n",
        "print(\"Memory used by list:\", sys.getsizeof(numbers), \"bytes\")\n"
      ],
      "metadata": {
        "colab": {
          "base_uri": "https://localhost:8080/"
        },
        "id": "bxa9JH-_eAob",
        "outputId": "88459494-7600-483e-9222-124d5bd488d6"
      },
      "execution_count": 42,
      "outputs": [
        {
          "output_type": "stream",
          "name": "stdout",
          "text": [
            "Memory used by list: 8856 bytes\n"
          ]
        }
      ]
    },
    {
      "cell_type": "code",
      "source": [
        "# Q17. Write a Python program to create and write a list of numbers to a file, one number per line.\n",
        "\n",
        "numbers = [1, 2, 3, 4, 5]\n",
        "\n",
        "with open(\"numbers.txt\", \"w\") as f:\n",
        "    for num in numbers:\n",
        "        f.write(str(num) + \"\\n\")\n"
      ],
      "metadata": {
        "id": "pQKJIZpceC22"
      },
      "execution_count": 43,
      "outputs": []
    },
    {
      "cell_type": "code",
      "source": [
        "# Q18. How would you implement a basic logging setup that logs to a file with rotation after 1MB?\n",
        "\n",
        "import logging\n",
        "from logging.handlers import RotatingFileHandler\n",
        "\n",
        "handler = RotatingFileHandler(\"rotate.log\", maxBytes=1000000, backupCount=3)\n",
        "logging.basicConfig(handlers=[handler], level=logging.INFO)\n",
        "\n",
        "logging.info(\"This is a test log message\")\n"
      ],
      "metadata": {
        "id": "yQgiFejjeF2w"
      },
      "execution_count": 44,
      "outputs": []
    },
    {
      "cell_type": "code",
      "source": [
        "# Q19. Write a program that handles both IndexError and KeyError using a try-except block.\n",
        "\n",
        "data = {\"name\": \"Alice\"}\n",
        "my_list = [10, 20, 30]\n",
        "\n",
        "try:\n",
        "    print(my_list[5])   # IndexError\n",
        "    print(data[\"salary\"])   # KeyError\n",
        "except IndexError:\n",
        "    print(\"IndexError handled\")\n",
        "except KeyError:\n",
        "    print(\"KeyError handled\")\n"
      ],
      "metadata": {
        "colab": {
          "base_uri": "https://localhost:8080/"
        },
        "id": "mFGTon0NeJOa",
        "outputId": "fa292428-4e67-433c-bd37-51da79cc3eb2"
      },
      "execution_count": 45,
      "outputs": [
        {
          "output_type": "stream",
          "name": "stdout",
          "text": [
            "IndexError handled\n"
          ]
        }
      ]
    },
    {
      "cell_type": "code",
      "source": [
        "# Q20. How would you open a file and read its contents using a context manager in Python?\n",
        "\n",
        "with open(\"context.txt\", \"w\") as f:\n",
        "    f.write(\"This is a context manager example\")\n",
        "\n",
        "with open(\"context.txt\", \"r\") as f:\n",
        "    print(f.read())\n"
      ],
      "metadata": {
        "colab": {
          "base_uri": "https://localhost:8080/"
        },
        "id": "DDtrhPDpeOIL",
        "outputId": "d4d8cdbc-19cd-4425-d2f5-071371d581f4"
      },
      "execution_count": 46,
      "outputs": [
        {
          "output_type": "stream",
          "name": "stdout",
          "text": [
            "This is a context manager example\n"
          ]
        }
      ]
    },
    {
      "cell_type": "code",
      "source": [
        "# Q21. Write a Python program that reads a file and prints the number of occurrences of a specific word.\n",
        "\n",
        "with open(\"words.txt\", \"w\") as f:\n",
        "    f.write(\"apple banana apple orange apple\")\n",
        "\n",
        "count = 0\n",
        "with open(\"words.txt\", \"r\") as f:\n",
        "    content = f.read().split()\n",
        "    count = content.count(\"apple\")\n",
        "\n",
        "print(\"Occurrences of 'apple':\", count)\n"
      ],
      "metadata": {
        "colab": {
          "base_uri": "https://localhost:8080/"
        },
        "id": "4SHQ9d2EeVSs",
        "outputId": "e59b7798-07a1-465f-8707-964309d0f943"
      },
      "execution_count": 47,
      "outputs": [
        {
          "output_type": "stream",
          "name": "stdout",
          "text": [
            "Occurrences of 'apple': 3\n"
          ]
        }
      ]
    },
    {
      "cell_type": "code",
      "source": [
        "# Q22. How can you check if a file is empty before attempting to read its contents?\n",
        "\n",
        "import os\n",
        "\n",
        "with open(\"maybe_empty.txt\", \"w\") as f:\n",
        "    pass\n",
        "\n",
        "if os.path.getsize(\"maybe_empty.txt\") == 0:\n",
        "    print(\"The file is empty\")\n",
        "else:\n",
        "    with open(\"maybe_empty.txt\", \"r\") as f:\n",
        "        print(f.read())\n"
      ],
      "metadata": {
        "colab": {
          "base_uri": "https://localhost:8080/"
        },
        "id": "yurm7dUyeWmV",
        "outputId": "c43f4d44-e201-424d-83cd-f0bb6b0aa92e"
      },
      "execution_count": 48,
      "outputs": [
        {
          "output_type": "stream",
          "name": "stdout",
          "text": [
            "The file is empty\n"
          ]
        }
      ]
    },
    {
      "cell_type": "code",
      "source": [
        "# Q23. Write a Python program that writes to a log file when an error occurs during file handling.\n",
        "\n",
        "import logging\n",
        "\n",
        "logging.basicConfig(filename=\"file_errors.log\", level=logging.ERROR)\n",
        "\n",
        "try:\n",
        "    with open(\"nofile.txt\", \"r\") as f:\n",
        "        print(f.read())\n",
        "except FileNotFoundError:\n",
        "    logging.error(\"File not found error occurred\")\n",
        "    print(\"Error logged into file_errors.log\")\n"
      ],
      "metadata": {
        "colab": {
          "base_uri": "https://localhost:8080/"
        },
        "id": "l5LPSUgbeY5x",
        "outputId": "3cde0e0b-c56e-4d29-c828-8a2efe262a94"
      },
      "execution_count": 49,
      "outputs": [
        {
          "output_type": "stream",
          "name": "stderr",
          "text": [
            "ERROR:root:File not found error occurred\n"
          ]
        },
        {
          "output_type": "stream",
          "name": "stdout",
          "text": [
            "Error logged into file_errors.log\n"
          ]
        }
      ]
    }
  ]
}